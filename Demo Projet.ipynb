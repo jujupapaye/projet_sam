{
 "cells": [
  {
   "cell_type": "code",
   "execution_count": 1,
   "metadata": {},
   "outputs": [],
   "source": [
    "import pandas as pd\n",
    "import numpy as np\n",
    "from sklearn.model_selection import train_test_split"
   ]
  },
  {
   "cell_type": "markdown",
   "metadata": {},
   "source": [
    "# Clasification des sons selon leurs compositeurs"
   ]
  },
  {
   "cell_type": "markdown",
   "metadata": {},
   "source": [
    "Nous avons un total de 120 sons classiques de 4 différents compositeurs (beethoven, mozart, chopin et liszt). Nous allons tenter de classifier ces sons. Nous avons crée 2 fichiers csv : chromas_clasical_sound.csv et mfccs_clasical_sound.csv grâce au fichier data_process.py, où à partir des fichiers .wav de chaque musique nous avons :\n",
    "* charger la représentation chroma (respectivement mcff)\n",
    "* ce qui nous a donné pour chaque extrait une matrice 12 * 2584 (chroma) et 20 * 2584 (mcff), certains morceaux etaient moins longs que les autres (moins de 2584), nous avons donc complété avec des 0 ces données pour que tous soient de longueur 2584 \n",
    "* on a obtenu une matrice de chromas de taille (120 * 12 * 2584), et une matrice de mcff de taille (120 * 20 * 2584)\n",
    "* nous avons vectoriser les 2 matrice pour obtenir un vecteur pour chaque sons\n",
    "* on a enregistré cela dans 2 fichiers csv (un pour la représentation chroma, l'autre pour la représentation mccf) en accolant la classe du compositeurs à la fin pour chaque son.\n",
    "\n",
    "Il ne nous reste plus qu'à charger les données et tester des classifieurs pour les deux représentations."
   ]
  },
  {
   "cell_type": "code",
   "execution_count": 2,
   "metadata": {},
   "outputs": [],
   "source": [
    "clasical_chromas = pd.read_csv(\"./data/clasical_sound/chromas_clasical_sound.csv\")\n",
    "clasical_mccfs = pd.read_csv(\"./data/clasical_sound/mfccs_clasical_sound.csv\")\n",
    "\n",
    "# correspondance des indices avec leurs compositeurs\n",
    "composithors = [\"beethoven\", \"chopin\", \"liszt\", \"mozart\"] "
   ]
  },
  {
   "cell_type": "markdown",
   "metadata": {},
   "source": [
    "### Chromas"
   ]
  },
  {
   "cell_type": "code",
   "execution_count": 3,
   "metadata": {},
   "outputs": [
    {
     "name": "stdout",
     "output_type": "stream",
     "text": [
      "(84, 31009) (84,)\n",
      "(36, 31009) (36,)\n"
     ]
    }
   ],
   "source": [
    "chromas = np.array(clasical_chromas)\n",
    "X_chromas = chromas[:,:-1]\n",
    "y_chromas = chromas[:,-1]  # la dernière colonne est la classe (le compositeurs)\n",
    "\n",
    "X_train, X_test, y_train, y_test = train_test_split(X_chromas, y_chromas, test_size=0.3, shuffle=True)\n",
    "print(X_train.shape, y_train.shape)\n",
    "print(X_test.shape, y_test.shape)"
   ]
  },
  {
   "cell_type": "code",
   "execution_count": 4,
   "metadata": {},
   "outputs": [
    {
     "name": "stdout",
     "output_type": "stream",
     "text": [
      "SVM avec noyau gaussien\n",
      "Scores: 0.9166666666666666\n",
      "(array([15, 26, 34]),)\n"
     ]
    }
   ],
   "source": [
    "from sklearn.svm import SVC\n",
    "\n",
    "svm = SVC()\n",
    "svm.fit(X_train,y_train)\n",
    "print(\"SVM avec noyau gaussien\")\n",
    "print(\"Scores:\", svm.score(X_test, y_test))\n",
    "y_svm = svm.predict(X_test)\n",
    "wrong_pred_svm = np.where(y_test != y_svm)\n",
    "print(wrong_pred_svm)"
   ]
  },
  {
   "cell_type": "code",
   "execution_count": 5,
   "metadata": {},
   "outputs": [
    {
     "name": "stdout",
     "output_type": "stream",
     "text": [
      "Régression Logistique\n",
      "Scores: 0.75\n",
      "(array([ 4,  6,  8, 15, 26, 29, 33, 34, 35]),)\n"
     ]
    }
   ],
   "source": [
    "from sklearn.linear_model import LogisticRegression\n",
    "\n",
    "reg = LogisticRegression(max_iter=200,solver='liblinear')\n",
    "reg.fit(X_train,y_train)\n",
    "print(\"Régression Logistique\")\n",
    "print(\"Scores:\", reg.score(X_test, y_test))\n",
    "y_reg = reg.predict(X_test)\n",
    "wrong_pred_reg = np.where(y_test != y_reg)\n",
    "print(wrong_pred_reg)"
   ]
  },
  {
   "cell_type": "markdown",
   "metadata": {},
   "source": [
    "### Mccf"
   ]
  },
  {
   "cell_type": "code",
   "execution_count": 6,
   "metadata": {},
   "outputs": [
    {
     "name": "stdout",
     "output_type": "stream",
     "text": [
      "(84, 31009) (84,)\n",
      "(36, 31009) (36,)\n"
     ]
    }
   ],
   "source": [
    "mcffs = np.array(clasical_mccfs)\n",
    "X_mcffs = mcffs[:,:-1]\n",
    "y_mcffs = mcffs[:,-1]  # la dernière colonne est la classe (le compositeur)\n",
    "\n",
    "X_train2, X_test2, y_train2, y_test2 = train_test_split(X_mcffs, y_mcffs, test_size=0.3, shuffle=True)\n",
    "print(X_train2.shape, y_train2.shape)\n",
    "print(X_test2.shape, y_test2.shape)"
   ]
  },
  {
   "cell_type": "code",
   "execution_count": 7,
   "metadata": {},
   "outputs": [
    {
     "name": "stdout",
     "output_type": "stream",
     "text": [
      "SVM avec noyau gaussien\n",
      "Scores: 0.9444444444444444\n",
      "(array([22, 31]),)\n"
     ]
    }
   ],
   "source": [
    "svm2 = SVC()\n",
    "svm2.fit(X_train2,y_train2)\n",
    "print(\"SVM avec noyau gaussien\")\n",
    "print(\"Scores:\", svm2.score(X_test2, y_test2))\n",
    "y_svm2 = svm.predict(X_test2)\n",
    "wrong_pred_svm2 = np.where(y_test2 != y_svm2)\n",
    "print(wrong_pred_svm2)"
   ]
  },
  {
   "cell_type": "code",
   "execution_count": 8,
   "metadata": {},
   "outputs": [
    {
     "name": "stdout",
     "output_type": "stream",
     "text": [
      "Régression Logistique\n",
      "Scores: 0.8888888888888888\n",
      "(array([ 7, 21, 22, 26]),)\n"
     ]
    }
   ],
   "source": [
    "reg2 = LogisticRegression(max_iter=200,solver='liblinear')\n",
    "reg2.fit(X_train2,y_train2)\n",
    "print(\"Régression Logistique\")\n",
    "print(\"Scores:\", reg2.score(X_test2, y_test2))\n",
    "y_reg2 = reg2.predict(X_test2)\n",
    "wrong_pred_reg2 = np.where(y_test2 != y_reg2)\n",
    "print(wrong_pred_reg2)"
   ]
  }
 ],
 "metadata": {
  "kernelspec": {
   "display_name": "Python 3",
   "language": "python",
   "name": "python3"
  },
  "language_info": {
   "codemirror_mode": {
    "name": "ipython",
    "version": 3
   },
   "file_extension": ".py",
   "mimetype": "text/x-python",
   "name": "python",
   "nbconvert_exporter": "python",
   "pygments_lexer": "ipython3",
   "version": "3.8.5"
  }
 },
 "nbformat": 4,
 "nbformat_minor": 4
}
